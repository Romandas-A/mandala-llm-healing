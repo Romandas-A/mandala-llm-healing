{
 "cells": [
  {
   "cell_type": "markdown",
   "metadata": {},
   "source": [
    "# 🧠 Mandala-Healing Example 01: Projection Demo"
   ]
  },
  {
   "cell_type": "code",
   "metadata": {},
   "source": [
    "from mandala_projection import load_model_and_tokenizer, project_sentences, plot_projections\n",
    "\n",
    "model, tokenizer = load_model_and_tokenizer()\n",
    "\n",
    "sentences = [\n",
    "    \"What is the capital of France?\",\n",
    "    \"Who discovered America?\",\n",
    "    \"What is the chemical formula of water?\",\n",
    "    \"Who wrote The Odyssey?\",\n",
    "    \"Where is the Great Wall located?\"\n",
    "]\n",
    "\n",
    "projections = project_sentences(sentences, model, tokenizer)\n",
    "plot_projections(projections)"
   ]
  }
 ],
 "metadata": {
  "kernelspec": {
   "display_name": "Python 3",
   "language": "python",
   "name": "python3"
  },
  "language_info": {
   "name": "python",
   "version": "3.x"
  }
 },
 "nbformat": 4,
 "nbformat_minor": 5
}
