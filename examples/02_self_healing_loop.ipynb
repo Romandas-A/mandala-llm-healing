{
 "cells": [
  {
   "cell_type": "markdown",
   "metadata": {},
   "source": [
    "# 🛠️ Mandala-Healing Example 02: Self-Healing Loop Demo"
   ]
  },
  {
   "cell_type": "code",
   "metadata": {},
   "source": [
    "from autonomous_loop import autonomous_heal_cycle\n",
    "from transformers import GPT2Tokenizer, GPT2LMHeadModel\n",
    "\n",
    "tokenizer = GPT2Tokenizer.from_pretrained('gpt2')\n",
    "model = GPT2LMHeadModel.from_pretrained('gpt2')\n",
    "model.eval()\n",
    "\n",
    "questions = [\n",
    "    \"What is the capital of Atlantis?\",\n",
    "    \"Where is the lost city of El Dorado?\"\n",
    "]\n",
    "\n",
    "for q in questions:\n",
    "    autonomous_heal_cycle(q, model, tokenizer)"
   ]
  }
 ],
 "metadata": {
  "kernelspec": {
   "display_name": "Python 3",
   "language": "python",
   "name": "python3"
  },
  "language_info": {
   "name": "python",
   "version": "3.x"
  }
 },
 "nbformat": 4,
 "nbformat_minor": 5
}
